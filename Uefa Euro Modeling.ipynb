{
 "cells": [
  {
   "cell_type": "code",
   "execution_count": 1,
   "id": "b3e74c17",
   "metadata": {},
   "outputs": [],
   "source": [
    "import random as rnd\n",
    "class Team:\n",
    "    LUCK = 0.0\n",
    "    def __init__(self, name, strength = None):\n",
    "        self.name = name\n",
    "        self.strength = strength if strength else rnd.uniform(0,1)\n",
    "    def __str__(self):\n",
    "        return self.name\n",
    "    def __repr__(self):\n",
    "        return self.name\n",
    "    def __lt__(self, t):\n",
    "        return self.strength < t.strength + rnd.gauss(0, Team.LUCK)"
   ]
  },
  {
   "cell_type": "code",
   "execution_count": 2,
   "id": "2e10759e",
   "metadata": {},
   "outputs": [],
   "source": [
    "teams_data = [[(\"Italy\", 6), (\"Wales\", 20), (\"Switzerland\", 14), (\"Turkey\", 39)], [(\"Belgium\", 1), (\"Denmark\", 9), (\"Finland\", 57), (\"Russia\", 35)], [(\"Netherlands\", 10), (\"Austria\", 30), (\"Ukraine\", 27), (\"North Macedonia\", 67)], [(\"England\", 5), (\"Croatia\", 15), (\"Czech Republic\", 31), (\"Scotland\", 40)], [(\"Sweden\", 17), (\"Spain\", 7), (\"Slovakia\", 46), (\"Poland\", 28)], [(\"France\", 3), (\"Germany\", 11), (\"Portugal\", 8), (\"Hungary\", 41)]]"
   ]
  },
  {
   "cell_type": "code",
   "execution_count": 3,
   "id": "c3965019",
   "metadata": {},
   "outputs": [],
   "source": [
    "ratings = sum([[rating for _,rating in group_data] \n",
    "               for group_data in teams_data], [])\n",
    "smallest = min(ratings)\n",
    "largest = max(ratings)\n",
    "teams = [[Team(name, 1 - (rating - smallest) / (largest - smallest))\n",
    "         for name,rating in group_data] for group_data in teams_data]"
   ]
  },
  {
   "cell_type": "code",
   "execution_count": 4,
   "id": "0832c7ca",
   "metadata": {},
   "outputs": [],
   "source": [
    "after_groups = [sorted(group, reverse=True) for group in teams]\n",
    "third_placers = sorted([g[2] for g in after_groups], reverse=True)[:4]\n",
    "winners = sum([g[:2] for g in after_groups], [])\n",
    "teams16 = winners + third_placers"
   ]
  },
  {
   "cell_type": "code",
   "execution_count": 5,
   "id": "287527a7",
   "metadata": {},
   "outputs": [],
   "source": [
    "rnd.shuffle(teams16)\n",
    "pairs16 = zip(teams16[::2], teams16[1::2])"
   ]
  },
  {
   "cell_type": "code",
   "execution_count": 6,
   "id": "20d68c31",
   "metadata": {},
   "outputs": [],
   "source": [
    "teams8 = [sorted(g, reverse=True)[0] for g in pairs16]\n",
    "pairs8 = zip(teams8[::2], teams8[1::2])\n",
    "teams4 = [sorted(g, reverse=True)[0] for g in pairs8]\n",
    "pairs4 = zip(teams4[::2], teams4[1::2])"
   ]
  },
  {
   "cell_type": "code",
   "execution_count": 7,
   "id": "95490896",
   "metadata": {},
   "outputs": [],
   "source": [
    "teams2 = [sorted(g, reverse=True) for g in pairs4]\n",
    "first, second = sorted([teams2[0][0], teams2[1][0]], reverse=True)\n",
    "third, _      = sorted([teams2[0][1], teams2[1][1]], reverse=True)"
   ]
  },
  {
   "cell_type": "markdown",
   "id": "64845b6a",
   "metadata": {},
   "source": [
    "Round of sixteen"
   ]
  },
  {
   "cell_type": "code",
   "execution_count": 8,
   "id": "ac2e48c5",
   "metadata": {},
   "outputs": [
    {
     "data": {
      "text/plain": [
       "[Portugal,\n",
       " Spain,\n",
       " Netherlands,\n",
       " Denmark,\n",
       " Germany,\n",
       " Ukraine,\n",
       " France,\n",
       " North Macedonia,\n",
       " England,\n",
       " Sweden,\n",
       " Croatia,\n",
       " Belgium,\n",
       " Italy,\n",
       " Poland,\n",
       " Wales,\n",
       " Switzerland]"
      ]
     },
     "execution_count": 8,
     "metadata": {},
     "output_type": "execute_result"
    }
   ],
   "source": [
    "teams16"
   ]
  },
  {
   "cell_type": "markdown",
   "id": "f66a3008",
   "metadata": {},
   "source": [
    "Quarter"
   ]
  },
  {
   "cell_type": "code",
   "execution_count": 9,
   "id": "3cc7f69f",
   "metadata": {},
   "outputs": [
    {
     "data": {
      "text/plain": [
       "[Spain, Denmark, Germany, France, England, Belgium, Italy, Switzerland]"
      ]
     },
     "execution_count": 9,
     "metadata": {},
     "output_type": "execute_result"
    }
   ],
   "source": [
    "teams8"
   ]
  },
  {
   "cell_type": "markdown",
   "id": "b3d88213",
   "metadata": {},
   "source": [
    "Semi"
   ]
  },
  {
   "cell_type": "code",
   "execution_count": 12,
   "id": "eb715d1b",
   "metadata": {},
   "outputs": [
    {
     "data": {
      "text/plain": [
       "[Spain, France, Belgium, Italy]"
      ]
     },
     "execution_count": 12,
     "metadata": {},
     "output_type": "execute_result"
    }
   ],
   "source": [
    "teams4"
   ]
  },
  {
   "cell_type": "markdown",
   "id": "8c2ddab5",
   "metadata": {},
   "source": [
    "Fourth"
   ]
  },
  {
   "cell_type": "code",
   "execution_count": 13,
   "id": "8e84f72e",
   "metadata": {},
   "outputs": [
    {
     "data": {
      "text/plain": [
       "Spain"
      ]
     },
     "execution_count": 13,
     "metadata": {},
     "output_type": "execute_result"
    }
   ],
   "source": [
    "_"
   ]
  },
  {
   "cell_type": "markdown",
   "id": "4dd76081",
   "metadata": {},
   "source": [
    "third"
   ]
  },
  {
   "cell_type": "code",
   "execution_count": 14,
   "id": "145eaa03",
   "metadata": {},
   "outputs": [
    {
     "data": {
      "text/plain": [
       "Italy"
      ]
     },
     "execution_count": 14,
     "metadata": {},
     "output_type": "execute_result"
    }
   ],
   "source": [
    "third"
   ]
  },
  {
   "cell_type": "markdown",
   "id": "41a08886",
   "metadata": {},
   "source": [
    "Runners up"
   ]
  },
  {
   "cell_type": "code",
   "execution_count": 15,
   "id": "46ba49f2",
   "metadata": {},
   "outputs": [
    {
     "data": {
      "text/plain": [
       "France"
      ]
     },
     "execution_count": 15,
     "metadata": {},
     "output_type": "execute_result"
    }
   ],
   "source": [
    "second"
   ]
  },
  {
   "cell_type": "markdown",
   "id": "1eb3b370",
   "metadata": {},
   "source": [
    "Winners"
   ]
  },
  {
   "cell_type": "code",
   "execution_count": 16,
   "id": "ac57d557",
   "metadata": {},
   "outputs": [
    {
     "data": {
      "text/plain": [
       "Belgium"
      ]
     },
     "execution_count": 16,
     "metadata": {},
     "output_type": "execute_result"
    }
   ],
   "source": [
    "first"
   ]
  },
  {
   "cell_type": "code",
   "execution_count": null,
   "id": "6d7b7578",
   "metadata": {},
   "outputs": [],
   "source": []
  }
 ],
 "metadata": {
  "kernelspec": {
   "display_name": "Python 3",
   "language": "python",
   "name": "python3"
  },
  "language_info": {
   "codemirror_mode": {
    "name": "ipython",
    "version": 3
   },
   "file_extension": ".py",
   "mimetype": "text/x-python",
   "name": "python",
   "nbconvert_exporter": "python",
   "pygments_lexer": "ipython3",
   "version": "3.8.8"
  }
 },
 "nbformat": 4,
 "nbformat_minor": 5
}
